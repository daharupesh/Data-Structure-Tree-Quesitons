{
 "cells": [
  {
   "cell_type": "code",
   "execution_count": 15,
   "metadata": {},
   "outputs": [],
   "source": [
    "# Tree Data Structure Implementation\n",
    "class Tree:\n",
    "    def __init__(self , data):\n",
    "        self.data = data\n",
    "        self.left = None\n",
    "        self.right = None\n",
    "\n",
    "    def setData(self ,data):\n",
    "        self.data = data\n",
    "\n",
    "    def getData(self):\n",
    "        return self.data\n",
    "\n",
    "    def setLeft(self,left):\n",
    "        self.left = left\n",
    "\n",
    "    def getLeft(self):\n",
    "        return self.left\n",
    "\n",
    "    def setRight(self , right):\n",
    "        self.right = right\n",
    "\n",
    "    def getRight(self):\n",
    "        return self.right\n",
    "                    \n"
   ]
  },
  {
   "cell_type": "code",
   "execution_count": 120,
   "metadata": {},
   "outputs": [],
   "source": [
    "# Creating the Tree\n",
    "# Root\n",
    "root = Tree(19)\n",
    "\n",
    "# leftSubtree\n",
    "leftR = Tree(2)\n",
    "leftR.setLeft(Tree(3))\n",
    "leftR.setRight(Tree(4))\n",
    "root.setLeft(leftR)\n",
    "\n",
    "\n",
    "#Right Sub Tree\n",
    "\n",
    "rightR = Tree(1)\n",
    "rightR.setLeft(Tree(6))\n",
    "rightR.setRight(Tree(7))\n",
    "root.setRight(rightR)\n"
   ]
  },
  {
   "cell_type": "code",
   "execution_count": 121,
   "metadata": {},
   "outputs": [],
   "source": [
    "# Pre-Order Traversal\n",
    "\n",
    "def PreOrderTraversal(root):\n",
    "    if not root:\n",
    "        return\n",
    "    \n",
    "    print(root.getData(), end=\" -> \")\n",
    "    # Recursively Calling Left Sub Tree\n",
    "    PreOrderTraversal(root.getLeft())\n",
    "    # Recursively Calling Right Sub Tree\n",
    "    PreOrderTraversal(root.getRight())\n"
   ]
  },
  {
   "cell_type": "code",
   "execution_count": 122,
   "metadata": {},
   "outputs": [
    {
     "name": "stdout",
     "output_type": "stream",
     "text": [
      "19 -> 2 -> 3 -> 4 -> 1 -> 6 -> 7 -> "
     ]
    }
   ],
   "source": [
    "PreOrderTraversal(root)"
   ]
  },
  {
   "cell_type": "code",
   "execution_count": 123,
   "metadata": {},
   "outputs": [],
   "source": [
    "def InOrderTraversal(root):\n",
    "    if not root:\n",
    "        return\n",
    "    # Left Subtree Calling recursively\n",
    "    InOrderTraversal(root.getLeft())\n",
    "\n",
    "    # Printing the Result\n",
    "    print(root.getData(), end=\" -> \")\n",
    "\n",
    "    # Right Subtree calling Recursively\n",
    "\n",
    "    InOrderTraversal(root.getRight())\n",
    "\n"
   ]
  },
  {
   "cell_type": "code",
   "execution_count": 124,
   "metadata": {},
   "outputs": [
    {
     "name": "stdout",
     "output_type": "stream",
     "text": [
      "3 -> 2 -> 4 -> 19 -> 6 -> 1 -> 7 -> "
     ]
    }
   ],
   "source": [
    "InOrderTraversal(root)"
   ]
  },
  {
   "cell_type": "code",
   "execution_count": 125,
   "metadata": {},
   "outputs": [],
   "source": [
    "def PostOrderTraversal(root):\n",
    "    if not root:\n",
    "        return\n",
    "    # Recursively Calling the Left Sub Tree\n",
    "    PostOrderTraversal(root.getLeft())\n",
    "\n",
    "    # Recursively Calling the Right Sub Tree\n",
    "    PostOrderTraversal(root.getRight())\n",
    "\n",
    "    # Printing Back all the Recursively Call\n",
    "    print(root.getData() , end=\" -> \")"
   ]
  },
  {
   "cell_type": "code",
   "execution_count": 126,
   "metadata": {},
   "outputs": [
    {
     "name": "stdout",
     "output_type": "stream",
     "text": [
      "3 -> 4 -> 2 -> 6 -> 7 -> 1 -> 19 -> "
     ]
    }
   ],
   "source": [
    "PostOrderTraversal(root)"
   ]
  },
  {
   "cell_type": "code",
   "execution_count": 127,
   "metadata": {},
   "outputs": [],
   "source": [
    "# Level Order Traversal\n",
    "# Create Tree\n",
    "class LTree:\n",
    "    def __init__(self , data):\n",
    "        self.data = data\n",
    "        self.left = None\n",
    "        self.right = None\n",
    "\n",
    "    def setData(self, data):\n",
    "        self.data = data\n",
    "\n",
    "    def getData(self):\n",
    "        return self.data\n",
    "\n",
    "\n",
    "    def setLeft(self ,left):\n",
    "        self.left = left\n",
    "\n",
    "    def getLeft(self):\n",
    "        return self.left\n",
    "\n",
    "    def setRight(self, right):\n",
    "        self.right = right\n",
    "\n",
    "    def getRight(self):\n",
    "        return self.right\n",
    "    \n",
    "                    "
   ]
  },
  {
   "cell_type": "code",
   "execution_count": 137,
   "metadata": {},
   "outputs": [],
   "source": [
    "root = LTree(15)\n",
    "\n",
    "# For Left Sub Tree\n",
    "leftRoot = LTree(2)\n",
    "leftRoot.setLeft(LTree(4))\n",
    "leftRoot.setRight(LTree(5))\n",
    "root.setLeft(leftRoot)\n",
    "\n",
    "\n",
    "# For Right Sub tree\n",
    "\n",
    "rightRoot = LTree(3)\n",
    "rightRoot.setLeft(LTree(10))\n",
    "rightRoot.setRight(LTree(7))\n",
    "root.setRight(rightRoot)\n",
    "\n",
    "\n"
   ]
  },
  {
   "cell_type": "code",
   "execution_count": 138,
   "metadata": {},
   "outputs": [],
   "source": [
    "class Node :\n",
    "\n",
    "  def __init__(self, data, next=None):\n",
    "    self.data = data\n",
    "    self.next = next\n",
    "\n",
    "  def getData(self):\n",
    "    return self.data\n",
    "\n",
    "  def setData(self, data):\n",
    "    self.data = data\n",
    "\n",
    "  def setNext(self, next):\n",
    "    self.next = next\n",
    "\n",
    "  def getNext(self):\n",
    "    return self.next"
   ]
  },
  {
   "cell_type": "code",
   "execution_count": 139,
   "metadata": {},
   "outputs": [],
   "source": [
    "class QueueLL :\n",
    "  def __init__(self):\n",
    "    self.head = None\n",
    "    self.tail = None\n",
    "    self.size =0\n",
    "\n",
    "  def isEmpty(self):\n",
    "    return self.head == None # self.tail == None\n",
    "\n",
    "  def enQue(self, data):\n",
    "    node = Node(data)\n",
    "\n",
    "    if self.isEmpty():\n",
    "      self.head = node\n",
    "      self.tail = node\n",
    "    else :\n",
    "      self.tail.setNext(node)\n",
    "      self.tail = self.tail.getNext()\n",
    "    self.size +=1\n",
    "\n",
    "  def deQueue(self):\n",
    "    if self.isEmpty():\n",
    "      print(\"Queue underflow\")\n",
    "      return\n",
    "    data = self.head.getData()\n",
    "\n",
    "    #chef if it's the only element\n",
    "    if(self.head == self.tail):\n",
    "      self.head = None\n",
    "      self.tail= None #Became after deQue, Queue will be empty\n",
    "    else:\n",
    "      self.head = self.head.getNext()\n",
    "    self.size -= 1\n",
    "    return data\n",
    "\n",
    "  def traverse(self):\n",
    "    temp = self.head\n",
    "    while(temp ):\n",
    "      print(temp.getData(), end=\"->\")\n",
    "      temp = temp.getNext()\n",
    "    print()\n",
    "\n"
   ]
  },
  {
   "cell_type": "code",
   "execution_count": 140,
   "metadata": {},
   "outputs": [],
   "source": [
    "# Level Order Traversal / BFS Breadth First Search\n",
    "\n",
    "def levelOrderTraversal(root):\n",
    "  if not root :\n",
    "    return\n",
    "  q = QueueLL()\n",
    "  q.enQue(root)\n",
    "  while not q.isEmpty():\n",
    "    #Deque the element from the queue\n",
    "    temp = q.deQueue()\n",
    "    print(temp.getData(), end=\"->\")\n",
    "\n",
    "    if temp.getLeft():\n",
    "      q.enQue(temp.getLeft())\n",
    "    if temp.getRight():\n",
    "      q.enQue(temp.getRight())\n",
    "                "
   ]
  },
  {
   "cell_type": "code",
   "execution_count": 141,
   "metadata": {},
   "outputs": [
    {
     "name": "stdout",
     "output_type": "stream",
     "text": [
      "15->2->3->4->5->10->7->"
     ]
    }
   ],
   "source": [
    "levelOrderTraversal(root)"
   ]
  },
  {
   "cell_type": "code",
   "execution_count": 142,
   "metadata": {},
   "outputs": [],
   "source": [
    "def maxElement(root):\n",
    "    if not root :\n",
    "      return\n",
    "    q = QueueLL()\n",
    "    q.enQue(root)\n",
    "    maxValue = root.getData()\n",
    "    while not q.isEmpty():\n",
    "      #Deque the element from the queue\n",
    "        temp = q.deQueue()\n",
    "        if maxValue < temp.getData() :\n",
    "          maxValue = temp.getData()\n",
    "\n",
    "        if temp.getLeft():\n",
    "         q.enQue(temp.getLeft())\n",
    "        if temp.getRight():\n",
    "         q.enQue(temp.getRight())\n",
    "\n",
    "    print(maxValue)     \n",
    "    "
   ]
  },
  {
   "cell_type": "code",
   "execution_count": 143,
   "metadata": {},
   "outputs": [
    {
     "name": "stdout",
     "output_type": "stream",
     "text": [
      "15\n"
     ]
    }
   ],
   "source": [
    "maxElement(root)"
   ]
  },
  {
   "cell_type": "code",
   "execution_count": 144,
   "metadata": {},
   "outputs": [],
   "source": [
    "def MinElement(root):\n",
    "    if not root :\n",
    "      return\n",
    "    q = QueueLL()\n",
    "    q.enQue(root)\n",
    "    minValue = root.getData()\n",
    "    while not q.isEmpty():\n",
    "      #Deque the element from the queue\n",
    "        temp = q.deQueue()\n",
    "        if minValue > temp.getData() :\n",
    "          minValue = temp.getData()\n",
    "\n",
    "        if temp.getLeft():\n",
    "         q.enQue(temp.getLeft())\n",
    "        if temp.getRight():\n",
    "         q.enQue(temp.getRight())\n",
    "\n",
    "    print(minValue)     \n",
    "    "
   ]
  },
  {
   "cell_type": "code",
   "execution_count": 145,
   "metadata": {},
   "outputs": [
    {
     "name": "stdout",
     "output_type": "stream",
     "text": [
      "2\n"
     ]
    }
   ],
   "source": [
    "MinElement(root)"
   ]
  },
  {
   "cell_type": "code",
   "execution_count": null,
   "metadata": {},
   "outputs": [],
   "source": []
  },
  {
   "cell_type": "code",
   "execution_count": null,
   "metadata": {},
   "outputs": [],
   "source": []
  },
  {
   "cell_type": "code",
   "execution_count": null,
   "metadata": {},
   "outputs": [],
   "source": []
  }
 ],
 "metadata": {
  "kernelspec": {
   "display_name": "Python 3",
   "language": "python",
   "name": "python3"
  },
  "language_info": {
   "codemirror_mode": {
    "name": "ipython",
    "version": 3
   },
   "file_extension": ".py",
   "mimetype": "text/x-python",
   "name": "python",
   "nbconvert_exporter": "python",
   "pygments_lexer": "ipython3",
   "version": "3.11.0"
  }
 },
 "nbformat": 4,
 "nbformat_minor": 2
}
